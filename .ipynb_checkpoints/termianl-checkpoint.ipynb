{
 "cells": [
  {
   "cell_type": "code",
   "execution_count": 1,
   "metadata": {},
   "outputs": [
    {
     "name": "stdout",
     "output_type": "stream",
     "text": [
      "Requirement already satisfied: streamlit in c:\\users\\tamu0\\anaconda3\\lib\\site-packages (1.0.0)\n",
      "Requirement already satisfied: base58 in c:\\users\\tamu0\\anaconda3\\lib\\site-packages (from streamlit) (2.1.0)\n",
      "Requirement already satisfied: click<8.0,>=7.0 in c:\\users\\tamu0\\anaconda3\\lib\\site-packages (from streamlit) (7.0)\n",
      "Requirement already satisfied: validators in c:\\users\\tamu0\\anaconda3\\lib\\site-packages (from streamlit) (0.18.2)\n",
      "Requirement already satisfied: tornado>=5.0 in c:\\users\\tamu0\\anaconda3\\lib\\site-packages (from streamlit) (6.0.3)\n",
      "Requirement already satisfied: pyarrow in c:\\users\\tamu0\\anaconda3\\lib\\site-packages (from streamlit) (5.0.0)\n",
      "Requirement already satisfied: pydeck>=0.1.dev5 in c:\\users\\tamu0\\anaconda3\\lib\\site-packages (from streamlit) (0.7.0)\n",
      "Requirement already satisfied: cachetools>=4.0 in c:\\users\\tamu0\\anaconda3\\lib\\site-packages (from streamlit) (4.2.4)\n",
      "Requirement already satisfied: tzlocal in c:\\users\\tamu0\\anaconda3\\lib\\site-packages (from streamlit) (3.0)\n",
      "Requirement already satisfied: watchdog; platform_system != \"Darwin\" in c:\\users\\tamu0\\anaconda3\\lib\\site-packages (from streamlit) (2.1.6)\n",
      "Requirement already satisfied: attrs in c:\\users\\tamu0\\anaconda3\\lib\\site-packages (from streamlit) (19.1.0)\n",
      "Requirement already satisfied: blinker in c:\\users\\tamu0\\anaconda3\\lib\\site-packages (from streamlit) (1.4)\n",
      "Requirement already satisfied: gitpython!=3.1.19 in c:\\users\\tamu0\\anaconda3\\lib\\site-packages (from streamlit) (3.1.24)\n",
      "Requirement already satisfied: pandas>=0.21.0 in c:\\users\\tamu0\\anaconda3\\lib\\site-packages (from streamlit) (0.24.2)\n",
      "Requirement already satisfied: pillow>=6.2.0 in c:\\users\\tamu0\\anaconda3\\lib\\site-packages (from streamlit) (8.3.2)\n",
      "Requirement already satisfied: packaging in c:\\users\\tamu0\\anaconda3\\lib\\site-packages (from streamlit) (19.0)\n",
      "Requirement already satisfied: astor in c:\\users\\tamu0\\anaconda3\\lib\\site-packages (from streamlit) (0.8.1)\n",
      "Requirement already satisfied: toml in c:\\users\\tamu0\\anaconda3\\lib\\site-packages (from streamlit) (0.10.2)\n",
      "Requirement already satisfied: altair>=3.2.0 in c:\\users\\tamu0\\anaconda3\\lib\\site-packages (from streamlit) (4.1.0)\n",
      "Requirement already satisfied: numpy in c:\\users\\tamu0\\anaconda3\\lib\\site-packages (from streamlit) (1.16.4)\n",
      "Requirement already satisfied: requests in c:\\users\\tamu0\\anaconda3\\lib\\site-packages (from streamlit) (2.22.0)\n",
      "Requirement already satisfied: python-dateutil in c:\\users\\tamu0\\anaconda3\\lib\\site-packages (from streamlit) (2.8.0)\n",
      "Requirement already satisfied: protobuf!=3.11,>=3.6.0 in c:\\users\\tamu0\\anaconda3\\lib\\site-packages (from streamlit) (3.18.1)\n",
      "Requirement already satisfied: six>=1.4.0 in c:\\users\\tamu0\\anaconda3\\lib\\site-packages (from validators->streamlit) (1.12.0)\n",
      "Requirement already satisfied: decorator>=3.4.0 in c:\\users\\tamu0\\anaconda3\\lib\\site-packages (from validators->streamlit) (4.4.0)\n",
      "Requirement already satisfied: ipywidgets>=7.0.0 in c:\\users\\tamu0\\anaconda3\\lib\\site-packages (from pydeck>=0.1.dev5->streamlit) (7.5.0)\n",
      "Requirement already satisfied: ipykernel>=5.1.2; python_version >= \"3.4\" in c:\\users\\tamu0\\anaconda3\\lib\\site-packages (from pydeck>=0.1.dev5->streamlit) (6.4.1)\n",
      "Requirement already satisfied: jinja2>=2.10.1 in c:\\users\\tamu0\\anaconda3\\lib\\site-packages (from pydeck>=0.1.dev5->streamlit) (2.10.1)\n",
      "Requirement already satisfied: traitlets>=4.3.2 in c:\\users\\tamu0\\anaconda3\\lib\\site-packages (from pydeck>=0.1.dev5->streamlit) (4.3.2)\n",
      "Requirement already satisfied: tzdata; platform_system == \"Windows\" in c:\\users\\tamu0\\anaconda3\\lib\\site-packages (from tzlocal->streamlit) (2021.2.post0)\n",
      "Requirement already satisfied: backports.zoneinfo; python_version < \"3.9\" in c:\\users\\tamu0\\anaconda3\\lib\\site-packages (from tzlocal->streamlit) (0.2.1)\n",
      "Requirement already satisfied: gitdb<5,>=4.0.1 in c:\\users\\tamu0\\anaconda3\\lib\\site-packages (from gitpython!=3.1.19->streamlit) (4.0.7)\n",
      "Requirement already satisfied: typing-extensions>=3.7.4.3; python_version < \"3.10\" in c:\\users\\tamu0\\anaconda3\\lib\\site-packages (from gitpython!=3.1.19->streamlit) (3.10.0.2)\n",
      "Requirement already satisfied: pytz>=2011k in c:\\users\\tamu0\\anaconda3\\lib\\site-packages (from pandas>=0.21.0->streamlit) (2019.1)\n",
      "Requirement already satisfied: pyparsing>=2.0.2 in c:\\users\\tamu0\\anaconda3\\lib\\site-packages (from packaging->streamlit) (2.4.0)\n",
      "Requirement already satisfied: toolz in c:\\users\\tamu0\\anaconda3\\lib\\site-packages (from altair>=3.2.0->streamlit) (0.10.0)\n",
      "Requirement already satisfied: jsonschema in c:\\users\\tamu0\\anaconda3\\lib\\site-packages (from altair>=3.2.0->streamlit) (3.0.1)\n",
      "Requirement already satisfied: entrypoints in c:\\users\\tamu0\\anaconda3\\lib\\site-packages (from altair>=3.2.0->streamlit) (0.3)\n",
      "Requirement already satisfied: urllib3!=1.25.0,!=1.25.1,<1.26,>=1.21.1 in c:\\users\\tamu0\\anaconda3\\lib\\site-packages (from requests->streamlit) (1.24.2)\n",
      "Requirement already satisfied: certifi>=2017.4.17 in c:\\users\\tamu0\\anaconda3\\lib\\site-packages (from requests->streamlit) (2019.9.11)\n",
      "Requirement already satisfied: idna<2.9,>=2.5 in c:\\users\\tamu0\\anaconda3\\lib\\site-packages (from requests->streamlit) (2.8)\n",
      "Requirement already satisfied: chardet<3.1.0,>=3.0.2 in c:\\users\\tamu0\\anaconda3\\lib\\site-packages (from requests->streamlit) (3.0.4)\n",
      "Requirement already satisfied: widgetsnbextension~=3.5.0 in c:\\users\\tamu0\\anaconda3\\lib\\site-packages (from ipywidgets>=7.0.0->pydeck>=0.1.dev5->streamlit) (3.5.0)\n",
      "Requirement already satisfied: nbformat>=4.2.0 in c:\\users\\tamu0\\anaconda3\\lib\\site-packages (from ipywidgets>=7.0.0->pydeck>=0.1.dev5->streamlit) (4.4.0)\n",
      "Requirement already satisfied: ipython>=4.0.0; python_version >= \"3.3\" in c:\\users\\tamu0\\anaconda3\\lib\\site-packages (from ipywidgets>=7.0.0->pydeck>=0.1.dev5->streamlit) (7.28.0)\n",
      "Requirement already satisfied: importlib-metadata<5; python_version < \"3.8.0\" in c:\\users\\tamu0\\anaconda3\\lib\\site-packages (from ipykernel>=5.1.2; python_version >= \"3.4\"->pydeck>=0.1.dev5->streamlit) (0.17)\n",
      "Requirement already satisfied: ipython-genutils in c:\\users\\tamu0\\anaconda3\\lib\\site-packages (from ipykernel>=5.1.2; python_version >= \"3.4\"->pydeck>=0.1.dev5->streamlit) (0.2.0)\n",
      "Requirement already satisfied: debugpy<2.0,>=1.0.0 in c:\\users\\tamu0\\anaconda3\\lib\\site-packages (from ipykernel>=5.1.2; python_version >= \"3.4\"->pydeck>=0.1.dev5->streamlit) (1.5.0)\n",
      "Requirement already satisfied: jupyter-client<8.0 in c:\\users\\tamu0\\anaconda3\\lib\\site-packages (from ipykernel>=5.1.2; python_version >= \"3.4\"->pydeck>=0.1.dev5->streamlit) (5.3.1)\n",
      "Requirement already satisfied: argcomplete>=1.12.3; python_version < \"3.8.0\" in c:\\users\\tamu0\\anaconda3\\lib\\site-packages (from ipykernel>=5.1.2; python_version >= \"3.4\"->pydeck>=0.1.dev5->streamlit) (1.12.3)\n",
      "Requirement already satisfied: matplotlib-inline<0.2.0,>=0.1.0 in c:\\users\\tamu0\\anaconda3\\lib\\site-packages (from ipykernel>=5.1.2; python_version >= \"3.4\"->pydeck>=0.1.dev5->streamlit) (0.1.3)\n",
      "Requirement already satisfied: MarkupSafe>=0.23 in c:\\users\\tamu0\\anaconda3\\lib\\site-packages (from jinja2>=2.10.1->pydeck>=0.1.dev5->streamlit) (1.1.1)\n",
      "Requirement already satisfied: smmap<5,>=3.0.1 in c:\\users\\tamu0\\anaconda3\\lib\\site-packages (from gitdb<5,>=4.0.1->gitpython!=3.1.19->streamlit) (4.0.0)\n",
      "Requirement already satisfied: pyrsistent>=0.14.0 in c:\\users\\tamu0\\anaconda3\\lib\\site-packages (from jsonschema->altair>=3.2.0->streamlit) (0.14.11)\n",
      "Requirement already satisfied: setuptools in c:\\users\\tamu0\\anaconda3\\lib\\site-packages (from jsonschema->altair>=3.2.0->streamlit) (41.0.1)\n",
      "Requirement already satisfied: notebook>=4.4.1 in c:\\users\\tamu0\\anaconda3\\lib\\site-packages (from widgetsnbextension~=3.5.0->ipywidgets>=7.0.0->pydeck>=0.1.dev5->streamlit) (6.0.0)\n",
      "Requirement already satisfied: jupyter-core in c:\\users\\tamu0\\anaconda3\\lib\\site-packages (from nbformat>=4.2.0->ipywidgets>=7.0.0->pydeck>=0.1.dev5->streamlit) (4.5.0)\n",
      "Requirement already satisfied: jedi>=0.16 in c:\\users\\tamu0\\anaconda3\\lib\\site-packages (from ipython>=4.0.0; python_version >= \"3.3\"->ipywidgets>=7.0.0->pydeck>=0.1.dev5->streamlit) (0.18.0)\n",
      "Requirement already satisfied: pygments in c:\\users\\tamu0\\anaconda3\\lib\\site-packages (from ipython>=4.0.0; python_version >= \"3.3\"->ipywidgets>=7.0.0->pydeck>=0.1.dev5->streamlit) (2.4.2)\n",
      "Requirement already satisfied: prompt-toolkit!=3.0.0,!=3.0.1,<3.1.0,>=2.0.0 in c:\\users\\tamu0\\anaconda3\\lib\\site-packages (from ipython>=4.0.0; python_version >= \"3.3\"->ipywidgets>=7.0.0->pydeck>=0.1.dev5->streamlit) (2.0.9)\n",
      "Requirement already satisfied: backcall in c:\\users\\tamu0\\anaconda3\\lib\\site-packages (from ipython>=4.0.0; python_version >= \"3.3\"->ipywidgets>=7.0.0->pydeck>=0.1.dev5->streamlit) (0.1.0)\n",
      "Requirement already satisfied: pickleshare in c:\\users\\tamu0\\anaconda3\\lib\\site-packages (from ipython>=4.0.0; python_version >= \"3.3\"->ipywidgets>=7.0.0->pydeck>=0.1.dev5->streamlit) (0.7.5)\n",
      "Requirement already satisfied: colorama; sys_platform == \"win32\" in c:\\users\\tamu0\\anaconda3\\lib\\site-packages (from ipython>=4.0.0; python_version >= \"3.3\"->ipywidgets>=7.0.0->pydeck>=0.1.dev5->streamlit) (0.4.1)\n",
      "Requirement already satisfied: zipp>=0.5 in c:\\users\\tamu0\\anaconda3\\lib\\site-packages (from importlib-metadata<5; python_version < \"3.8.0\"->ipykernel>=5.1.2; python_version >= \"3.4\"->pydeck>=0.1.dev5->streamlit) (0.5.1)\n",
      "Requirement already satisfied: pyzmq>=13 in c:\\users\\tamu0\\anaconda3\\lib\\site-packages (from jupyter-client<8.0->ipykernel>=5.1.2; python_version >= \"3.4\"->pydeck>=0.1.dev5->streamlit) (18.0.0)\n",
      "Requirement already satisfied: Send2Trash in c:\\users\\tamu0\\anaconda3\\lib\\site-packages (from notebook>=4.4.1->widgetsnbextension~=3.5.0->ipywidgets>=7.0.0->pydeck>=0.1.dev5->streamlit) (1.5.0)\n",
      "Requirement already satisfied: nbconvert in c:\\users\\tamu0\\anaconda3\\lib\\site-packages (from notebook>=4.4.1->widgetsnbextension~=3.5.0->ipywidgets>=7.0.0->pydeck>=0.1.dev5->streamlit) (5.5.0)\n",
      "Requirement already satisfied: terminado>=0.8.1 in c:\\users\\tamu0\\anaconda3\\lib\\site-packages (from notebook>=4.4.1->widgetsnbextension~=3.5.0->ipywidgets>=7.0.0->pydeck>=0.1.dev5->streamlit) (0.8.2)\n",
      "Requirement already satisfied: prometheus-client in c:\\users\\tamu0\\anaconda3\\lib\\site-packages (from notebook>=4.4.1->widgetsnbextension~=3.5.0->ipywidgets>=7.0.0->pydeck>=0.1.dev5->streamlit) (0.7.1)\n",
      "Requirement already satisfied: parso<0.9.0,>=0.8.0 in c:\\users\\tamu0\\anaconda3\\lib\\site-packages (from jedi>=0.16->ipython>=4.0.0; python_version >= \"3.3\"->ipywidgets>=7.0.0->pydeck>=0.1.dev5->streamlit) (0.8.2)\n",
      "Requirement already satisfied: wcwidth in c:\\users\\tamu0\\anaconda3\\lib\\site-packages (from prompt-toolkit!=3.0.0,!=3.0.1,<3.1.0,>=2.0.0->ipython>=4.0.0; python_version >= \"3.3\"->ipywidgets>=7.0.0->pydeck>=0.1.dev5->streamlit) (0.1.7)\n",
      "Requirement already satisfied: defusedxml in c:\\users\\tamu0\\anaconda3\\lib\\site-packages (from nbconvert->notebook>=4.4.1->widgetsnbextension~=3.5.0->ipywidgets>=7.0.0->pydeck>=0.1.dev5->streamlit) (0.6.0)\n",
      "Requirement already satisfied: mistune>=0.8.1 in c:\\users\\tamu0\\anaconda3\\lib\\site-packages (from nbconvert->notebook>=4.4.1->widgetsnbextension~=3.5.0->ipywidgets>=7.0.0->pydeck>=0.1.dev5->streamlit) (0.8.4)\n",
      "Requirement already satisfied: pandocfilters>=1.4.1 in c:\\users\\tamu0\\anaconda3\\lib\\site-packages (from nbconvert->notebook>=4.4.1->widgetsnbextension~=3.5.0->ipywidgets>=7.0.0->pydeck>=0.1.dev5->streamlit) (1.4.2)\n",
      "Requirement already satisfied: testpath in c:\\users\\tamu0\\anaconda3\\lib\\site-packages (from nbconvert->notebook>=4.4.1->widgetsnbextension~=3.5.0->ipywidgets>=7.0.0->pydeck>=0.1.dev5->streamlit) (0.4.2)\n",
      "Requirement already satisfied: bleach in c:\\users\\tamu0\\anaconda3\\lib\\site-packages (from nbconvert->notebook>=4.4.1->widgetsnbextension~=3.5.0->ipywidgets>=7.0.0->pydeck>=0.1.dev5->streamlit) (3.1.0)\n",
      "Requirement already satisfied: webencodings in c:\\users\\tamu0\\anaconda3\\lib\\site-packages (from bleach->nbconvert->notebook>=4.4.1->widgetsnbextension~=3.5.0->ipywidgets>=7.0.0->pydeck>=0.1.dev5->streamlit) (0.5.1)\n"
     ]
    }
   ],
   "source": [
    "!pip install streamlit"
   ]
  },
  {
   "cell_type": "code",
   "execution_count": null,
   "metadata": {},
   "outputs": [],
   "source": [
    "#streamlit install後にこれを実行\n",
    "\n",
    "!streamlit run main.py"
   ]
  },
  {
   "cell_type": "code",
   "execution_count": null,
   "metadata": {},
   "outputs": [],
   "source": []
  }
 ],
 "metadata": {
  "kernelspec": {
   "display_name": "Python 3 (ipykernel)",
   "language": "python",
   "name": "python3"
  },
  "language_info": {
   "codemirror_mode": {
    "name": "ipython",
    "version": 3
   },
   "file_extension": ".py",
   "mimetype": "text/x-python",
   "name": "python",
   "nbconvert_exporter": "python",
   "pygments_lexer": "ipython3",
   "version": "3.7.3"
  }
 },
 "nbformat": 4,
 "nbformat_minor": 2
}
